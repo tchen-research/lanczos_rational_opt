{
 "cells": [
  {
   "cell_type": "code",
   "execution_count": 1,
   "metadata": {},
   "outputs": [],
   "source": [
    "import numpy as np\n",
    "import scipy as sp\n",
    "from scipy import optimize,special,integrate\n",
    "import matplotlib.pyplot as plt\n",
    "from matplotlib.lines import Line2D\n",
    "\n",
    "import copy\n",
    "\n",
    "from lanczos_bin import *\n",
    "\n",
    "from IPython.display import clear_output\n",
    "%load_ext autoreload\n",
    "%autoreload 2"
   ]
  },
  {
   "cell_type": "code",
   "execution_count": 2,
   "metadata": {},
   "outputs": [],
   "source": [
    "plt.rc('text', usetex=True)\n",
    "plt.rc('font', family='serif')"
   ]
  },
  {
   "cell_type": "code",
   "execution_count": 3,
   "metadata": {},
   "outputs": [],
   "source": [
    "def exact_lanczos_mv(A,q0,k,B=None,reorth=True):\n",
    "    \"\"\"\n",
    "    run Lanczos with reorthogonalization\n",
    "    \n",
    "    Input\n",
    "    -----\n",
    "    A : entries of diagonal matrix A\n",
    "    q0 : starting vector\n",
    "    k : number of iterations\n",
    "    B : entries of diagonal weights for orthogonalization\n",
    "    \"\"\"\n",
    "    \n",
    "    n = A.shape[0]\n",
    "    \n",
    "    if B is None:\n",
    "        B = np.ones(n,dtype=A.dtype)\n",
    "    \n",
    "    Q = np.zeros((n,k),dtype=A.dtype)\n",
    "    a = np.zeros(k,dtype=A.dtype)\n",
    "    b = np.zeros(k,dtype=A.dtype)\n",
    "    \n",
    "    Q[:,0] = q0 / np.sqrt(q0*B@q0)\n",
    "    \n",
    "    for i in range(1,k+1):\n",
    "        # expand Krylov space\n",
    "\n",
    "      #  if i>1:\n",
    "       #     print(b[i-2],qi@Q[:,i-2])\n",
    "\n",
    "        qi = A@Q[:,i-1] - b[i-2]*Q[:,i-2] if i>1 else A@Q[:,i-1]\n",
    "        \n",
    "        a[i-1] = (qi*B)@Q[:,i-1]\n",
    "        qi -= a[i-1]*Q[:,i-1]\n",
    "        \n",
    "        if reorth:\n",
    "            qi -= Q[:,:i-2]@(Q[:,:i-2].T@(B*qi))\n",
    "            \n",
    "        b[i-1] = np.sqrt((qi*B)@qi)\n",
    "        if i < k:\n",
    "            Q[:,i] = qi / b[i-1]\n",
    "                \n",
    "    return Q,(a,b)"
   ]
  },
  {
   "cell_type": "code",
   "execution_count": 4,
   "metadata": {},
   "outputs": [],
   "source": [
    "dl=.005\n",
    "lam = np.hstack([np.arange(-50,-1+dl/2,dl),np.arange(1,500+dl/2,dl)])\n",
    "\n",
    "A,C = (0,1)\n",
    "a,c = (1,.05)\n",
    "A_mat = lam\n",
    "\n",
    "n = len(A_mat)\n",
    "b_vec = np.ones(n,dtype=np.double)\n",
    "b_vec /= np.linalg.norm(b_vec)\n",
    "\n",
    "M = lambda x: (A*x**2+C)\n",
    "N = lambda x: (a*x**2+c)\n",
    "f = lambda x: M(x)/N(x)\n",
    "\n",
    "fAb = f(A_mat)*b_vec\n",
    "\n",
    "K = 500\n",
    "Q,(a_,b_) = exact_lanczos(A_mat,b_vec,K,reorth=False)"
   ]
  },
  {
   "cell_type": "code",
   "execution_count": 5,
   "metadata": {},
   "outputs": [
    {
     "name": "stdout",
     "output_type": "stream",
     "text": [
      "2.75 s ± 0 ns per loop (mean ± std. dev. of 1 run, 1 loop each)\n"
     ]
    }
   ],
   "source": [
    "%%timeit -r 1\n",
    "K = 500\n",
    "Q,(a_,b_) = exact_lanczos_mv(sp.sparse.spdiags(A_mat,0,n,n),b_vec,K,reorth=False)"
   ]
  },
  {
   "cell_type": "code",
   "execution_count": 6,
   "metadata": {},
   "outputs": [
    {
     "name": "stdout",
     "output_type": "stream",
     "text": [
      "1.62 s ± 15.8 ms per loop (mean ± std. dev. of 10 runs, 1 loop each)\n"
     ]
    }
   ],
   "source": [
    "%%timeit -r 10\n",
    "lan_lm= streaming_banded_rational(n,K,(A,0,C),(a,0,c))\n",
    "for j in range(K):\n",
    "    lan_lm.read_stream(Q[:,j],a_[j],b_[j])\n",
    "lan_lm.finish_up() "
   ]
  },
  {
   "cell_type": "code",
   "execution_count": 7,
   "metadata": {},
   "outputs": [
    {
     "name": "stdout",
     "output_type": "stream",
     "text": [
      "577 ms ± 5.1 ms per loop (mean ± std. dev. of 10 runs, 1 loop each)\n"
     ]
    }
   ],
   "source": [
    "%%timeit -r 10\n",
    "T = np.diag(a_[:K]) + np.diag(b_[:K-1],1) + np.diag(b_[:K-1],-1)\n",
    "fTe0 = np.linalg.solve(a*T@T+c*np.eye(K),(A*T@T+C*np.eye(K))[:,0])\n",
    "lank_FA = np.zeros(n)\n",
    "for i in range(K):\n",
    "    lank_FA += Q[:,i]*fTe0[i]"
   ]
  },
  {
   "cell_type": "code",
   "execution_count": 8,
   "metadata": {},
   "outputs": [],
   "source": [
    "b = 500\n",
    "A = sp.sparse.spdiags(np.ones((b,n)),list(range(-b//2,b//2)),n,n)"
   ]
  },
  {
   "cell_type": "code",
   "execution_count": 9,
   "metadata": {},
   "outputs": [
    {
     "name": "stdout",
     "output_type": "stream",
     "text": [
      "22.1 s ± 0 ns per loop (mean ± std. dev. of 1 run, 1 loop each)\n"
     ]
    }
   ],
   "source": [
    "%%timeit -r 1\n",
    "K = 500\n",
    "Q,(a_,b_) = exact_lanczos_mv(A,b_vec,K,reorth=False)"
   ]
  },
  {
   "cell_type": "code",
   "execution_count": null,
   "metadata": {},
   "outputs": [],
   "source": []
  }
 ],
 "metadata": {
  "kernelspec": {
   "display_name": "Python 3",
   "language": "python",
   "name": "python3"
  },
  "language_info": {
   "codemirror_mode": {
    "name": "ipython",
    "version": 3
   },
   "file_extension": ".py",
   "mimetype": "text/x-python",
   "name": "python",
   "nbconvert_exporter": "python",
   "pygments_lexer": "ipython3",
   "version": "3.8.3"
  }
 },
 "nbformat": 4,
 "nbformat_minor": 4
}
